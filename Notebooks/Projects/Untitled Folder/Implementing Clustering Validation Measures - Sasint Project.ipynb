{
 "cells": [
  {
   "cell_type": "code",
   "execution_count": 29,
   "metadata": {},
   "outputs": [],
   "source": [
    "from math import *"
   ]
  },
  {
   "cell_type": "code",
   "execution_count": 30,
   "metadata": {},
   "outputs": [],
   "source": [
    "def jaccard_similarity(x,y):\n",
    "  \n",
    " intersection_cardinality = len(set.intersection(*[set(x), set(y)]))\n",
    " union_cardinality = len(set.union(*[set(x), set(y)]))\n",
    " return intersection_cardinality/float(union_cardinality)"
   ]
  },
  {
   "cell_type": "code",
   "execution_count": 63,
   "metadata": {},
   "outputs": [],
   "source": [
    "from sklearn.metrics.cluster import normalized_mutual_info_score\n",
    "from sklearn.metrics import jaccard_similarity_score"
   ]
  },
  {
   "cell_type": "code",
   "execution_count": 65,
   "metadata": {},
   "outputs": [
    {
     "name": "stdout",
     "output_type": "stream",
     "text": [
      "0.16666666666666666\n",
      "0.0\n"
     ]
    }
   ],
   "source": [
    "print(jaccard_similarity([1,2,3,4],[7,3,5,3]))\n",
    "print(jaccard_similarity_score([1,2,3,4],[7,3,5,3]))"
   ]
  },
  {
   "cell_type": "code",
   "execution_count": 81,
   "metadata": {},
   "outputs": [],
   "source": [
    "cs1 = open(\"clustering_1.txt\").readlines()\n",
    "cs2 = open(\"clustering_2.txt\").readlines()\n",
    "cs3 = open(\"clustering_3.txt\").readlines()\n",
    "cs4 = open(\"clustering_4.txt\").readlines()\n",
    "cs5 = open(\"clustering_5.txt\").readlines()\n",
    "part = open(\"partitions.txt\").readlines()"
   ]
  },
  {
   "cell_type": "code",
   "execution_count": 113,
   "metadata": {},
   "outputs": [],
   "source": [
    "c11 = []\n",
    "c21 = []\n",
    "for i in range(0,len(cs1)):\n",
    "    cs1[i] = cs1[i].replace(\"\\n\",\"\")\n",
    "    l = cs1[i].split(\" \")\n",
    "    c21.append(int(l[1]))\n",
    "partc = []\n",
    "for i in range(0,len(part)):\n",
    "    part[i] = part[i].replace(\"\\n\",\"\")\n",
    "    l = part[i].split(\" \")\n",
    "    partc.append(int(l[1]))"
   ]
  },
  {
   "cell_type": "code",
   "execution_count": 114,
   "metadata": {},
   "outputs": [
    {
     "data": {
      "text/plain": [
       "0.97666666666666668"
      ]
     },
     "execution_count": 114,
     "metadata": {},
     "output_type": "execute_result"
    }
   ],
   "source": [
    "cs1jc = jaccard_similarity_score(c21,partc)\n",
    "cs1jc"
   ]
  },
  {
   "cell_type": "code",
   "execution_count": 115,
   "metadata": {},
   "outputs": [],
   "source": [
    "c12 = []\n",
    "c22 = []\n",
    "for i in range(0,len(cs2)):\n",
    "    cs2[i] = cs2[i].replace(\"\\n\",\"\")\n",
    "    l2 = cs2[i].split(\" \")\n",
    "    c12.append(int(l2[0]))\n",
    "    c22.append(int(l2[1]))"
   ]
  },
  {
   "cell_type": "code",
   "execution_count": 116,
   "metadata": {},
   "outputs": [],
   "source": [
    "cs2jc = jaccard_similarity_score(c22,partc)"
   ]
  },
  {
   "cell_type": "code",
   "execution_count": 117,
   "metadata": {},
   "outputs": [],
   "source": [
    "c13 = []\n",
    "c23 = []\n",
    "for i in range(0,len(cs3)):\n",
    "    cs3[i] = cs3[i].replace(\"\\n\",\"\")\n",
    "    l3 = cs3[i].split(\" \")\n",
    "    c13.append(int(l3[0]))\n",
    "    c23.append(int(l3[1]))"
   ]
  },
  {
   "cell_type": "code",
   "execution_count": 118,
   "metadata": {},
   "outputs": [],
   "source": [
    "cs3jc = jaccard_similarity_score(c23,partc)"
   ]
  },
  {
   "cell_type": "code",
   "execution_count": 119,
   "metadata": {},
   "outputs": [],
   "source": [
    "c14 = []\n",
    "c24 = []\n",
    "for i in range(0,len(cs4)):\n",
    "    cs4[i] = cs4[i].replace(\"\\n\",\"\")\n",
    "    l4 = cs4[i].split(\" \")\n",
    "    c14.append(int(l4[0]))\n",
    "    c24.append(int(l4[1]))"
   ]
  },
  {
   "cell_type": "code",
   "execution_count": 120,
   "metadata": {},
   "outputs": [],
   "source": [
    "cs4jc = jaccard_similarity_score(c24,partc)"
   ]
  },
  {
   "cell_type": "code",
   "execution_count": 136,
   "metadata": {},
   "outputs": [],
   "source": [
    "c15 = []\n",
    "c25 = []\n",
    "for i in range(0,len(cs5)):\n",
    "    cs5[i] = cs5[i].replace(\"\\n\",\"\")\n",
    "    l5 = cs5[i].split(\" \")\n",
    "    c15.append(int(l5[0]))\n",
    "    c25.append(int(l5[1]))"
   ]
  },
  {
   "cell_type": "code",
   "execution_count": 137,
   "metadata": {},
   "outputs": [],
   "source": [
    "cs5jc = jaccard_similarity_score(c25,partc,normalize=True)\n",
    "# jaccard_similarity_score(y_true, y_pred)"
   ]
  },
  {
   "cell_type": "code",
   "execution_count": 138,
   "metadata": {
    "scrolled": true
   },
   "outputs": [
    {
     "data": {
      "text/plain": [
       "[0.97666666666666668,\n",
       " 0.89666666666666661,\n",
       " 0.78333333333333333,\n",
       " 0.91000000000000003,\n",
       " 0.66666666666666663]"
      ]
     },
     "execution_count": 138,
     "metadata": {},
     "output_type": "execute_result"
    }
   ],
   "source": [
    "[cs1jc,cs2jc,cs3jc,cs4jc,cs5jc]"
   ]
  },
  {
   "cell_type": "code",
   "execution_count": 59,
   "metadata": {},
   "outputs": [
    {
     "data": {
      "text/plain": [
       "1.0"
      ]
     },
     "execution_count": 59,
     "metadata": {},
     "output_type": "execute_result"
    }
   ],
   "source": [
    "normalized_mutual_info_score(c11,c12)"
   ]
  },
  {
   "cell_type": "code",
   "execution_count": 124,
   "metadata": {
    "scrolled": true
   },
   "outputs": [
    {
     "data": {
      "text/plain": [
       "[0.88962476658005873,\n",
       " 0.64563681134772166,\n",
       " 0.39154374638169198,\n",
       " 0.76778916069026093,\n",
       " 0.76117025972228858]"
      ]
     },
     "execution_count": 124,
     "metadata": {},
     "output_type": "execute_result"
    }
   ],
   "source": [
    "[normalized_mutual_info_score(partc,c21),normalized_mutual_info_score(partc,c22),normalized_mutual_info_score(partc,c23),normalized_mutual_info_score(partc,c24),normalized_mutual_info_score(partc,c25)]"
   ]
  },
  {
   "cell_type": "code",
   "execution_count": null,
   "metadata": {},
   "outputs": [],
   "source": []
  }
 ],
 "metadata": {
  "kernelspec": {
   "display_name": "Python 3",
   "language": "python",
   "name": "python3"
  },
  "language_info": {
   "codemirror_mode": {
    "name": "ipython",
    "version": 3
   },
   "file_extension": ".py",
   "mimetype": "text/x-python",
   "name": "python",
   "nbconvert_exporter": "python",
   "pygments_lexer": "ipython3",
   "version": "3.6.3"
  }
 },
 "nbformat": 4,
 "nbformat_minor": 2
}
